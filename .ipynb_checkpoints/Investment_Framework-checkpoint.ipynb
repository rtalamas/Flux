{
 "cells": [
  {
   "cell_type": "markdown",
   "id": "careful-capital",
   "metadata": {},
   "source": [
    "# Investment Framework"
   ]
  },
  {
   "cell_type": "markdown",
   "id": "loved-multiple",
   "metadata": {},
   "source": [
    "## Portfolio Optimization"
   ]
  },
  {
   "cell_type": "markdown",
   "id": "authentic-softball",
   "metadata": {},
   "source": [
    "### Classic Mean-Variance Optimization"
   ]
  },
  {
   "cell_type": "markdown",
   "id": "cosmetic-pavilion",
   "metadata": {},
   "source": [
    "Classical Markowits mean-variance optimization solves for the the optimization problem\n",
    "\n",
    "$$\n",
    "maximize \\quad \\alpha w^T - \\gamma w^T \\sum w \\\\\n",
    "subject\\hspace{.05in}to \\quad 1^Tw=1, \\quad w \\in W\n",
    "$$\n",
    "\n"
   ]
  },
  {
   "cell_type": "markdown",
   "id": "blessed-andrews",
   "metadata": {},
   "source": [
    "where $w \\in R^n$ is the optimization variables, $\\sum$ is the asset-by-asset covariance matrix, $W$ is a set of allowed portfolios, and $\\gamma>0$ is the *risk aversion* parameter. \n",
    "\n",
    "The objective function $u^Tw-\\gamma w^T\\sum w$ is the risk-adjusted return. Varying $\\gamma$ gives the optimal *risk-return trade-off*.\n",
    "\n",
    "This approach can be used if the total number of assets $n$ in the universe is $n < 50$. Greater number of assets in the universe will lead to a high number of parameter estimations in $\\sum$ which results in lower performance."
   ]
  },
  {
   "cell_type": "markdown",
   "id": "victorian-discovery",
   "metadata": {},
   "source": [
    "### Mean-Variance Optimization with factor covariance matrix"
   ]
  },
  {
   "cell_type": "markdown",
   "id": "featured-ceremony",
   "metadata": {},
   "source": [
    "#### Factor Covariance Matrix"
   ]
  },
  {
   "cell_type": "markdown",
   "id": "rubber-thing",
   "metadata": {},
   "source": [
    "Factor covariance approach can be used as a viable solution to asset universes $n>50$. This variation models the covariance matrix as a factor model\n",
    "\n",
    "$$\n",
    "\\sum =  F\\tilde{\\sum}F^T + D\n",
    "$$"
   ]
  },
  {
   "cell_type": "markdown",
   "id": "defined-large",
   "metadata": {},
   "source": [
    "where $F \\in R^nxk$, $k<<n$ is the *factor loading matix*. $k$ is the number of factors. $F_{ij}$ is the factor exposure of asset $i$ to factor $j$. $D$ is the diagonal specific risk matix capturing the idiosincratic *risk component*; $D_{ii}>0$ and $\\tilde{\\sum}$ is the *factor covariance matrix* estimated from $F_{ij}$. \n",
    "\n",
    "$F^Tw \\in R^k$ gives the *portfolio factor exposures*. Portfolios are considered factor neutral if $(F^Tw)_j=0$."
   ]
  },
  {
   "cell_type": "markdown",
   "id": "marked-recruitment",
   "metadata": {},
   "source": [
    "#### Optimization with factor covariance matrix"
   ]
  },
  {
   "cell_type": "markdown",
   "id": "smoking-yellow",
   "metadata": {},
   "source": [
    "The factor covariance matrix model extends the classic mean-variance optimization framework to inluce an added penalty risk component of the utility function. The optimization problem solved is\n",
    "\n",
    "$$\n",
    "maximize \\quad \\alpha w^T - \\gamma(f^T\\tilde{\\sum} f + w^TDw) \\\\\n",
    "subject \\hspace{.05in} to \\quad 1^Tw=1, f = F^Tw, w\\in W, f\\in F\n",
    "$$"
   ]
  },
  {
   "cell_type": "markdown",
   "id": "protective-investigator",
   "metadata": {},
   "source": [
    "where $w \\in R^n$ and the factor exposures $f \\in R^k$ and $F$ gives the factor exposures constraints. \n",
    "\n",
    "Using the factor covariance approach adds the additional challenge of developing a research framework to find a common set of factors that can successfuly explain asset excess returns. Section **Factor Covariance Matrix** provides more detail on the topic."
   ]
  },
  {
   "cell_type": "markdown",
   "id": "vertical-breakfast",
   "metadata": {},
   "source": [
    "## Inputs"
   ]
  },
  {
   "cell_type": "markdown",
   "id": "breathing-tension",
   "metadata": {},
   "source": [
    "### Alphas"
   ]
  },
  {
   "cell_type": "markdown",
   "id": "opened-cleanup",
   "metadata": {},
   "source": [
    "Active management is forecasting. Active managers get their title by gather, processing and refining information that leads to excess returns over a given portfolio benchmark. Raw signals such as analyst forecasts, balance sheet ratios, number of cars outside of Walmart, and even number of daily active users in a given protocol/website, hopefully provide information that can be used to forecast excess returns. But these raw data is not alphas, and therefore can't be used in any portfolio optimization. \n",
    "\n",
    "For this reason Kahn & Grinold [1] derived a basic forecasting formula that governs the connection of raw data to alphas, decomposing $\\alpha$ into three different components: skill, risk and expectation (raw information).\n",
    "\n",
    "The basic forecasting formula provides the minimum variance unbiased estimate (MVUE) of the excess return $\\theta$, given a raw signal $g$.\n",
    "\n",
    "$$\n",
    "E[\\theta|g] = E[\\theta] + Cov(\\theta, g) * Var^-1(g) * [g - E[g]] \\hspace{.5in} (1)\n",
    "$$\n",
    "\n",
    "where $\\theta$ is the vector of excess return ($N$ assets), $g$ is the raw forecast vector ($K$ forecasts), $E[\\theta]$ is the consensus (naive) forecast, $E[g]$ is the expected forecast value, and $E[\\theta|g]$ is the excess return given the raw signal $g$.\n",
    "\n",
    "It follows that $\\alpha$ can then be expressed as $E[\\theta|g] - E[\\theta]$, therefore equation (1) can be re-written as\n",
    "\n",
    "$$\n",
    "\\alpha \\equiv E[\\theta|g] - E[\\theta] = Cov(\\theta, g) * Var^-1(g) * [g - E[g]] \\hspace{.5in} (2)\n",
    "$$\n",
    "\n",
    "Under this model, $E[\\theta]$ be can though of as the expected residual return in the Capital Asset Pricing Model (CAPM). In the CAPM, the return on any stock is broken down into a market component and a residual component\n",
    "\n",
    "$$\n",
    "r_p = \\beta_p r_m + \\theta_p\n",
    "$$\n",
    "\n",
    "The CAPM states that the expectation of the excess return on all stocks and any portfolio is equal to zero. In other words, $E[\\theta] = 0$ in the long run. This means the expected excess return on the portfolio $E[r_p] = \\mu_p$, is entirely determined by the expected return of the market $E[r_m] = \\mu_m$ and the portfolio's beta $\\beta_p$. The relationship can be expressed as\n",
    "\n",
    "$$\n",
    "E[r_p] = \\beta_p \\mu_m\n",
    "$$\n",
    "\n",
    "Given this statement, $\\alpha$ is the expected residual return conditional on the manager's information $g$. Accordingly, equation (2) can then be simplified to:\n",
    "\n",
    "$$\n",
    "\\alpha \\equiv E[\\theta|g] - 0 = Cov(\\theta, g) * Var^-1(g) * [g - E[g]] \\hspace{.5in} (3) \\\\\n",
    "\\alpha \\equiv E[\\theta|g] = Cov(\\theta, g) * Var^-1(g) * [g - E[g]] \\hspace{.5in} (4)\n",
    "$$\n",
    "\n",
    "This formula controls for the raw data. For an intuitive example, consider the case of a company earnings announcement. If company earnings exactly match expectations, we don't expect the stock to move. Movements only happen when earning don't match expectations. \n",
    "\n",
    "Equation (4) can be further simplified to a more intuitive and digestible form that reveals how $\\alpha$ is composed of skill, risk and expectation. The definition of variance and covariance state the following:\n",
    "\n",
    "$$\n",
    "Var(g) = StDev(g)^2 \\hspace{.3in} (5) \\\\ \n",
    "Cov(\\theta, g) = Corr(\\theta, g) * StDev(\\theta) * StDev(g) \\hspace{.3in} (6)\n",
    "$$\n",
    "\n",
    "Substituting equation 5 and 6 into equation 4 leads to\n",
    "\n",
    "$$\n",
    "\\alpha = Corr(\\theta, g) * StDev(\\theta) * \\frac{g - E[g]}{StDev(g)} \\hspace{.3in} (7)\n",
    "$$\n",
    "\n",
    "The correlation of the signal and subsequent realization of the signal $Corr(\\theta, g)$ is commonly referred to as the *information coefficient (IC)*, and the standard deviation of the residual return $StDev(\\theta)$ is the residual risk $w$ of an asset $A$ relative to a market $M$ defined by:\n",
    "\n",
    "$$\n",
    "w_a = \\sqrt{\\sigma_a^2 - \\beta_a^2 * \\sigma_m^2} \\hspace{.3in} (8)\n",
    "$$\n",
    "\n",
    "Lastly, the standarized raw signal $\\frac{g - E[g]}{StDev(g)}$ is referred to as a *z-score or score* because by construction it has a mean of 0 and a standard deviation of 1. Putting all this together leads to\n",
    "\n",
    "$$\n",
    "\\alpha = IC * w * score \\hspace{.3in} (9)\n",
    "$$"
   ]
  },
  {
   "cell_type": "markdown",
   "id": "excellent-hamburg",
   "metadata": {},
   "source": [
    "### Risk Model"
   ]
  },
  {
   "cell_type": "markdown",
   "id": "prompt-marathon",
   "metadata": {},
   "source": [
    "#### Asset-by-Asset Covariance Matrix\n",
    "\n",
    "The choice of a given risk model within an investment framework is highly sensitive to the number of assets in the tradeable univers. For portfolios with two asset, we can simply compute the risk of the portfolio using the volatility of both assets plus their correlation. In the case of portfolio with 100 assets, we would need 100 volatility estimates, plus the correlation of each asset with every other asset (4950 correlations in total). In general terms, as the number of assets $N$ increases, the required number of correlations increases by $N(N-1)/2$.\n",
    "\n",
    "All this estimates can be summarized in the *covariance matrix* $\\sum$\n",
    "\n",
    "$$\n",
    "\\sum = \\begin{bmatrix}\n",
    "        \\sigma_1^2 & \\sigma_{12} & .... & \\sigma_{1N} \\\\\n",
    "        \\sigma_{12} & \\sigma_2^2 & \\\\\n",
    "        . \\\\ \n",
    "        . \\\\\n",
    "        \\sigma_{1N}\n",
    "        \\end{bmatrix} \\quad (10)\n",
    "$$\n",
    "\n",
    "where the covariance of $r_i$ and $r_j$ is denoted by $\\sigma_{ij}$ and $\\sigma_{ij} = \\sigma_{ij^*}$. This mathematical entity contains all the information needed to compute portfolio-level risk. The goal of the risk model is to accuratelly and efficiently estimate the covariance matrix. One big drawback of this approach is that as $N$ gets larger and larger the required  number of independed quantities that need to be estimated increases. For this reason, a structural risk model approach is preferred when $N$ is large."
   ]
  },
  {
   "cell_type": "markdown",
   "id": "interior-defensive",
   "metadata": {},
   "source": [
    "#### Factor Covariance Matrix"
   ]
  },
  {
   "cell_type": "markdown",
   "id": "genuine-convergence",
   "metadata": {},
   "source": [
    "The use of a multi-factor risk model is based on notion that the returns of an asset can be explained by a set of common factors plus an idiosyncratic term that is specific to that particular asset. In this context, we can think of common factors as forces affecting a group of assets. \n",
    "\n",
    "By identifying relevant factors, we are able to reduce the dimensionality of the problem. Instead of dealing with 6000 stock (and 18,003,000 independent variances and covariances), we can deal with less than 100 factors. Under this conditions, the assets in our universe can change but the factors remain the same. \n",
    "\n",
    "A multi-factor risk model starts by analyzing the excess returns according to a linear equation with four different components: the asset's excess returns, the asset's exposure to the factors, the factor return, and the specific return. The model structure is:\n",
    "\n",
    "$$\n",
    "r_n(t) = \\sum_{i=1}^k X_{nk}(t) * b_k(t) * \\mu_n(t) \\quad (11)\n",
    "$$\n",
    "\n",
    "where $r_n(t)$ is the excess return of asset $n$ from $t$ to $t+1$, $\\sum_{i=1}^k X_{nk}(t)$ is the factor loading of asset $n$ to factor $k$ at time $t$, $b_k(t)$ is the factor return from $t$ to $t+1$, and $\\mu_n(t)$ is the specific (idiosyncratic) return of asset $n$ from $t$ to $t+1$."
   ]
  },
  {
   "cell_type": "markdown",
   "id": "dominican-samuel",
   "metadata": {},
   "source": [
    "It's worth highlighting the fact that the factor expsoures are know at time $t$. The asset returns, factor returns, and specific return span from $t$ to $t+1$. \n",
    "\n",
    "The model assumes that the specific returns and the factor returns are uncorrelated and also not correlated with themselves. With these assumptions and the return stucture of (10), the risk structure is\n",
    "\n",
    "$$\n",
    "\\sum =  F\\tilde{\\sum}F^T + D\n",
    "$$"
   ]
  },
  {
   "cell_type": "markdown",
   "id": "literary-salon",
   "metadata": {},
   "source": [
    "Where $\\sum$ is the asset covariance matrix, $F \\in R^nxk$, $k<<n$ is the *factor loading matix*. $k$ is the number of factors. $F_{ij}$ is the factor exposure of asset $i$ to factor $j$. $D$ is the diagonal specific risk matix capturing the idiosincratic *risk component*; $D_{ii}>0$ and $\\tilde{\\sum}$ is the *factor covariance matrix* estimated from $F_{ij}$. \n",
    "\n",
    "$F^Tw \\in R^k$ gives the *portfolio factor exposures*. Portfolios are considered factor neutral if $(F^Tw)_j=0$."
   ]
  },
  {
   "cell_type": "markdown",
   "id": "union-patch",
   "metadata": {},
   "source": [
    "The art of building this kind of model is choosing the appropiate factors. This search for factor is limited by only one constraint: all factor needs to be prori factors. This means that asset exposures to factors have to be known at the beginning of the period $t$."
   ]
  }
 ],
 "metadata": {
  "kernelspec": {
   "display_name": "Python 3",
   "language": "python",
   "name": "python3"
  },
  "language_info": {
   "codemirror_mode": {
    "name": "ipython",
    "version": 3
   },
   "file_extension": ".py",
   "mimetype": "text/x-python",
   "name": "python",
   "nbconvert_exporter": "python",
   "pygments_lexer": "ipython3",
   "version": "3.6.10"
  }
 },
 "nbformat": 4,
 "nbformat_minor": 5
}
